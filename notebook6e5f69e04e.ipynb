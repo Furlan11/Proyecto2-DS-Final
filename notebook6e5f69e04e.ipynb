{
 "cells": [
  {
   "cell_type": "code",
   "execution_count": null,
   "metadata": {
    "_cell_guid": "b1076dfc-b9ad-4769-8c92-a6c4dae69d19",
    "_uuid": "8f2839f25d086af736a60e9eeb907d3b93b6e0e5"
   },
   "outputs": [],
   "source": [
    "# This Python 3 environment comes with many helpful analytics libraries installed\n",
    "# It is defined by the kaggle/python Docker image: https://github.com/kaggle/docker-python\n",
    "# For example, here's several helpful packages to load\n",
    "\n",
    "import numpy as np # linear algebra\n",
    "import pandas as pd # data processing, CSV file I/O (e.g. pd.read_csv)\n",
    "\n",
    "# Input data files are available in the read-only \"../input/\" directory\n",
    "# For example, running this (by clicking run or pressing Shift+Enter) will list all files under the input directory\n",
    "\n",
    "import os\n",
    "for dirname, _, filenames in os.walk('/kaggle/input'):\n",
    "    for filename in filenames:\n",
    "        print(os.path.join(dirname, filename))\n",
    "\n",
    "# You can write up to 20GB to the current directory (/kaggle/working/) that gets preserved as output when you create a version using \"Save & Run All\" \n",
    "# You can also write temporary files to /kaggle/temp/, but they won't be saved outside of the current session"
   ]
  },
  {
   "cell_type": "code",
   "execution_count": 1,
   "metadata": {
    "execution": {
     "iopub.execute_input": "2024-11-18T05:22:37.533153Z",
     "iopub.status.busy": "2024-11-18T05:22:37.532602Z",
     "iopub.status.idle": "2024-11-18T05:48:16.248320Z",
     "shell.execute_reply": "2024-11-18T05:48:16.246932Z",
     "shell.execute_reply.started": "2024-11-18T05:22:37.533090Z"
    }
   },
   "outputs": [
    {
     "name": "stderr",
     "output_type": "stream",
     "text": [
      "/opt/conda/lib/python3.10/site-packages/keras/src/layers/core/embedding.py:90: UserWarning: Argument `input_length` is deprecated. Just remove it.\n",
      "  warnings.warn(\n"
     ]
    },
    {
     "data": {
      "text/html": [
       "<pre style=\"white-space:pre;overflow-x:auto;line-height:normal;font-family:Menlo,'DejaVu Sans Mono',consolas,'Courier New',monospace\"><span style=\"font-weight: bold\">Model: \"sequential\"</span>\n",
       "</pre>\n"
      ],
      "text/plain": [
       "\u001b[1mModel: \"sequential\"\u001b[0m\n"
      ]
     },
     "metadata": {},
     "output_type": "display_data"
    },
    {
     "data": {
      "text/html": [
       "<pre style=\"white-space:pre;overflow-x:auto;line-height:normal;font-family:Menlo,'DejaVu Sans Mono',consolas,'Courier New',monospace\">┏━━━━━━━━━━━━━━━━━━━━━━━━━━━━━━━━━┳━━━━━━━━━━━━━━━━━━━━━━━━┳━━━━━━━━━━━━━━━┓\n",
       "┃<span style=\"font-weight: bold\"> Layer (type)                    </span>┃<span style=\"font-weight: bold\"> Output Shape           </span>┃<span style=\"font-weight: bold\">       Param # </span>┃\n",
       "┡━━━━━━━━━━━━━━━━━━━━━━━━━━━━━━━━━╇━━━━━━━━━━━━━━━━━━━━━━━━╇━━━━━━━━━━━━━━━┩\n",
       "│ embedding (<span style=\"color: #0087ff; text-decoration-color: #0087ff\">Embedding</span>)           │ ?                      │   <span style=\"color: #00af00; text-decoration-color: #00af00\">0</span> (unbuilt) │\n",
       "├─────────────────────────────────┼────────────────────────┼───────────────┤\n",
       "│ bidirectional (<span style=\"color: #0087ff; text-decoration-color: #0087ff\">Bidirectional</span>)   │ ?                      │   <span style=\"color: #00af00; text-decoration-color: #00af00\">0</span> (unbuilt) │\n",
       "├─────────────────────────────────┼────────────────────────┼───────────────┤\n",
       "│ simple_rnn_1 (<span style=\"color: #0087ff; text-decoration-color: #0087ff\">SimpleRNN</span>)        │ ?                      │   <span style=\"color: #00af00; text-decoration-color: #00af00\">0</span> (unbuilt) │\n",
       "├─────────────────────────────────┼────────────────────────┼───────────────┤\n",
       "│ dropout (<span style=\"color: #0087ff; text-decoration-color: #0087ff\">Dropout</span>)               │ ?                      │   <span style=\"color: #00af00; text-decoration-color: #00af00\">0</span> (unbuilt) │\n",
       "├─────────────────────────────────┼────────────────────────┼───────────────┤\n",
       "│ dense (<span style=\"color: #0087ff; text-decoration-color: #0087ff\">Dense</span>)                   │ ?                      │   <span style=\"color: #00af00; text-decoration-color: #00af00\">0</span> (unbuilt) │\n",
       "└─────────────────────────────────┴────────────────────────┴───────────────┘\n",
       "</pre>\n"
      ],
      "text/plain": [
       "┏━━━━━━━━━━━━━━━━━━━━━━━━━━━━━━━━━┳━━━━━━━━━━━━━━━━━━━━━━━━┳━━━━━━━━━━━━━━━┓\n",
       "┃\u001b[1m \u001b[0m\u001b[1mLayer (type)                   \u001b[0m\u001b[1m \u001b[0m┃\u001b[1m \u001b[0m\u001b[1mOutput Shape          \u001b[0m\u001b[1m \u001b[0m┃\u001b[1m \u001b[0m\u001b[1m      Param #\u001b[0m\u001b[1m \u001b[0m┃\n",
       "┡━━━━━━━━━━━━━━━━━━━━━━━━━━━━━━━━━╇━━━━━━━━━━━━━━━━━━━━━━━━╇━━━━━━━━━━━━━━━┩\n",
       "│ embedding (\u001b[38;5;33mEmbedding\u001b[0m)           │ ?                      │   \u001b[38;5;34m0\u001b[0m (unbuilt) │\n",
       "├─────────────────────────────────┼────────────────────────┼───────────────┤\n",
       "│ bidirectional (\u001b[38;5;33mBidirectional\u001b[0m)   │ ?                      │   \u001b[38;5;34m0\u001b[0m (unbuilt) │\n",
       "├─────────────────────────────────┼────────────────────────┼───────────────┤\n",
       "│ simple_rnn_1 (\u001b[38;5;33mSimpleRNN\u001b[0m)        │ ?                      │   \u001b[38;5;34m0\u001b[0m (unbuilt) │\n",
       "├─────────────────────────────────┼────────────────────────┼───────────────┤\n",
       "│ dropout (\u001b[38;5;33mDropout\u001b[0m)               │ ?                      │   \u001b[38;5;34m0\u001b[0m (unbuilt) │\n",
       "├─────────────────────────────────┼────────────────────────┼───────────────┤\n",
       "│ dense (\u001b[38;5;33mDense\u001b[0m)                   │ ?                      │   \u001b[38;5;34m0\u001b[0m (unbuilt) │\n",
       "└─────────────────────────────────┴────────────────────────┴───────────────┘\n"
      ]
     },
     "metadata": {},
     "output_type": "display_data"
    },
    {
     "data": {
      "text/html": [
       "<pre style=\"white-space:pre;overflow-x:auto;line-height:normal;font-family:Menlo,'DejaVu Sans Mono',consolas,'Courier New',monospace\"><span style=\"font-weight: bold\"> Total params: </span><span style=\"color: #00af00; text-decoration-color: #00af00\">0</span> (0.00 B)\n",
       "</pre>\n"
      ],
      "text/plain": [
       "\u001b[1m Total params: \u001b[0m\u001b[38;5;34m0\u001b[0m (0.00 B)\n"
      ]
     },
     "metadata": {},
     "output_type": "display_data"
    },
    {
     "data": {
      "text/html": [
       "<pre style=\"white-space:pre;overflow-x:auto;line-height:normal;font-family:Menlo,'DejaVu Sans Mono',consolas,'Courier New',monospace\"><span style=\"font-weight: bold\"> Trainable params: </span><span style=\"color: #00af00; text-decoration-color: #00af00\">0</span> (0.00 B)\n",
       "</pre>\n"
      ],
      "text/plain": [
       "\u001b[1m Trainable params: \u001b[0m\u001b[38;5;34m0\u001b[0m (0.00 B)\n"
      ]
     },
     "metadata": {},
     "output_type": "display_data"
    },
    {
     "data": {
      "text/html": [
       "<pre style=\"white-space:pre;overflow-x:auto;line-height:normal;font-family:Menlo,'DejaVu Sans Mono',consolas,'Courier New',monospace\"><span style=\"font-weight: bold\"> Non-trainable params: </span><span style=\"color: #00af00; text-decoration-color: #00af00\">0</span> (0.00 B)\n",
       "</pre>\n"
      ],
      "text/plain": [
       "\u001b[1m Non-trainable params: \u001b[0m\u001b[38;5;34m0\u001b[0m (0.00 B)\n"
      ]
     },
     "metadata": {},
     "output_type": "display_data"
    },
    {
     "name": "stdout",
     "output_type": "stream",
     "text": [
      "Epoch 1/10\n",
      "\u001b[1m1848/1848\u001b[0m \u001b[32m━━━━━━━━━━━━━━━━━━━━\u001b[0m\u001b[37m\u001b[0m \u001b[1m150s\u001b[0m 79ms/step - accuracy: 0.6337 - loss: 1.1045 - val_accuracy: 0.4678 - val_loss: 1.9477\n",
      "Epoch 2/10\n",
      "\u001b[1m1848/1848\u001b[0m \u001b[32m━━━━━━━━━━━━━━━━━━━━\u001b[0m\u001b[37m\u001b[0m \u001b[1m199s\u001b[0m 77ms/step - accuracy: 0.9644 - loss: 0.2481 - val_accuracy: 0.4519 - val_loss: 2.3226\n",
      "Epoch 3/10\n",
      "\u001b[1m1848/1848\u001b[0m \u001b[32m━━━━━━━━━━━━━━━━━━━━\u001b[0m\u001b[37m\u001b[0m \u001b[1m143s\u001b[0m 77ms/step - accuracy: 0.9862 - loss: 0.1444 - val_accuracy: 0.4611 - val_loss: 2.5514\n",
      "Epoch 4/10\n",
      "\u001b[1m1848/1848\u001b[0m \u001b[32m━━━━━━━━━━━━━━━━━━━━\u001b[0m\u001b[37m\u001b[0m \u001b[1m143s\u001b[0m 77ms/step - accuracy: 0.9924 - loss: 0.1054 - val_accuracy: 0.4290 - val_loss: 2.6815\n",
      "Epoch 5/10\n",
      "\u001b[1m1848/1848\u001b[0m \u001b[32m━━━━━━━━━━━━━━━━━━━━\u001b[0m\u001b[37m\u001b[0m \u001b[1m143s\u001b[0m 77ms/step - accuracy: 0.9932 - loss: 0.0917 - val_accuracy: 0.4818 - val_loss: 2.6170\n",
      "Epoch 6/10\n",
      "\u001b[1m1848/1848\u001b[0m \u001b[32m━━━━━━━━━━━━━━━━━━━━\u001b[0m\u001b[37m\u001b[0m \u001b[1m142s\u001b[0m 77ms/step - accuracy: 0.9961 - loss: 0.0756 - val_accuracy: 0.4533 - val_loss: 2.6512\n",
      "Epoch 7/10\n",
      "\u001b[1m1848/1848\u001b[0m \u001b[32m━━━━━━━━━━━━━━━━━━━━\u001b[0m\u001b[37m\u001b[0m \u001b[1m142s\u001b[0m 77ms/step - accuracy: 0.9954 - loss: 0.0726 - val_accuracy: 0.4794 - val_loss: 2.6478\n",
      "Epoch 8/10\n",
      "\u001b[1m1848/1848\u001b[0m \u001b[32m━━━━━━━━━━━━━━━━━━━━\u001b[0m\u001b[37m\u001b[0m \u001b[1m141s\u001b[0m 76ms/step - accuracy: 0.9961 - loss: 0.0677 - val_accuracy: 0.4908 - val_loss: 2.6964\n",
      "Epoch 9/10\n",
      "\u001b[1m1848/1848\u001b[0m \u001b[32m━━━━━━━━━━━━━━━━━━━━\u001b[0m\u001b[37m\u001b[0m \u001b[1m142s\u001b[0m 77ms/step - accuracy: 0.9971 - loss: 0.0613 - val_accuracy: 0.4599 - val_loss: 2.6707\n",
      "Epoch 10/10\n",
      "\u001b[1m1848/1848\u001b[0m \u001b[32m━━━━━━━━━━━━━━━━━━━━\u001b[0m\u001b[37m\u001b[0m \u001b[1m145s\u001b[0m 78ms/step - accuracy: 0.9975 - loss: 0.0591 - val_accuracy: 0.4602 - val_loss: 2.6992\n"
     ]
    }
   ],
   "source": [
    "import pandas as pd\n",
    "from tensorflow.keras.preprocessing.text import Tokenizer\n",
    "from tensorflow.keras.preprocessing.sequence import pad_sequences\n",
    "from sklearn.preprocessing import LabelEncoder\n",
    "from tensorflow.keras.models import Sequential\n",
    "from tensorflow.keras.layers import Embedding, SimpleRNN, Dense, Dropout, Bidirectional\n",
    "from tensorflow.keras.regularizers import l2\n",
    "from tensorflow.keras.optimizers import Adam\n",
    "\n",
    "# Cargar los archivos con el separador adecuado (tabulación)\n",
    "entities_df = pd.read_csv('/kaggle/input/litcoinrnn/entities_train.csv', sep='\\t')\n",
    "relations_df = pd.read_csv('/kaggle/input/litcoinrnn/relations_train.csv', sep='\\t')\n",
    "abstracts_df = pd.read_csv('/kaggle/input/litcoinrnn/abstracts_train.csv', sep='\\t')\n",
    "\n",
    "# Asegurarse de que todos los identificadores de 'abstract_id' sean strings\n",
    "entities_df['abstract_id'] = entities_df['abstract_id'].astype(str)\n",
    "abstracts_df['abstract_id'] = abstracts_df['abstract_id'].astype(str)\n",
    "relations_df['abstract_id'] = relations_df['abstract_id'].astype(str)\n",
    "\n",
    "# Unir los resúmenes con las relaciones usando 'abstract_id'\n",
    "merged_df = pd.merge(relations_df, abstracts_df[['abstract_id', 'abstract', 'title']], on='abstract_id', how='inner')\n",
    "\n",
    "# Unir la información de las entidades, primero para 'entity_1' y luego para 'entity_2'\n",
    "merged_df = pd.merge(merged_df, entities_df[['entity_ids', 'mention', 'type', 'abstract_id']],\n",
    "                     left_on=['abstract_id', 'entity_1_id'],\n",
    "                     right_on=['abstract_id', 'entity_ids'],\n",
    "                     how='inner')\n",
    "merged_df.rename(columns={'mention': 'entity_1_mention', 'type': 'entity_1_type'}, inplace=True)\n",
    "\n",
    "merged_df = pd.merge(merged_df, entities_df[['entity_ids', 'mention', 'type', 'abstract_id']],\n",
    "                     left_on=['abstract_id', 'entity_2_id'],\n",
    "                     right_on=['abstract_id', 'entity_ids'],\n",
    "                     how='inner')\n",
    "merged_df.rename(columns={'mention': 'entity_2_mention', 'type': 'entity_2_type'}, inplace=True)\n",
    "\n",
    "# Crear una nueva columna combinando el abstract con las menciones de las dos entidades\n",
    "merged_df['combined_input'] = (\n",
    "    merged_df['abstract'] + \" [ENT1] \" + merged_df['entity_1_mention'] + \" [ENT2] \" + merged_df['entity_2_mention']\n",
    ")\n",
    "\n",
    "# Convertir la entrada combinada a minúsculas\n",
    "merged_df['combined_input'] = merged_df['combined_input'].str.lower()\n",
    "\n",
    "# Tokenización y Padding\n",
    "max_words = 10000  # Número máximo de palabras en el vocabulario\n",
    "max_len = 100  # Longitud máxima de las secuencias\n",
    "tokenizer = Tokenizer(num_words=max_words, oov_token=\"<OOV>\")\n",
    "tokenizer.fit_on_texts(merged_df['combined_input'])\n",
    "sequences = tokenizer.texts_to_sequences(merged_df['combined_input'])\n",
    "padded_sequences = pad_sequences(sequences, maxlen=max_len, padding='post')\n",
    "\n",
    "# Convertir las etiquetas de relaciones (type_x) a números\n",
    "label_encoder = LabelEncoder()\n",
    "merged_df['type_x'] = label_encoder.fit_transform(merged_df['type_x'])\n",
    "\n",
    "# Parámetros del modelo\n",
    "vocab_size = 10000  # Tamaño del vocabulario\n",
    "embedding_dim = 128  # Dimensión del embedding\n",
    "dropout_rate = 0.5  # Tasa de Dropout\n",
    "num_classes = len(label_encoder.classes_)  # Número de clases (relaciones)\n",
    "learning_rate = 1e-4  # Tasa de aprendizaje\n",
    "\n",
    "# Construcción del modelo\n",
    "model_rnn = Sequential()\n",
    "model_rnn.add(Embedding(input_dim=vocab_size, output_dim=embedding_dim, input_length=max_len))\n",
    "model_rnn.add(Bidirectional(SimpleRNN(128, return_sequences=True)))\n",
    "model_rnn.add(SimpleRNN(64, return_sequences=False))\n",
    "model_rnn.add(Dropout(dropout_rate))\n",
    "model_rnn.add(Dense(num_classes, activation='softmax', kernel_regularizer=l2(0.01)))\n",
    "\n",
    "# Compilación del modelo\n",
    "optimizer = Adam(learning_rate=learning_rate)\n",
    "model_rnn.compile(loss='sparse_categorical_crossentropy', optimizer=optimizer, metrics=['accuracy'])\n",
    "\n",
    "# Resumen del modelo\n",
    "model_rnn.summary()\n",
    "\n",
    "# Entrenamiento del modelo\n",
    "history_rnn = model_rnn.fit(\n",
    "    padded_sequences, \n",
    "    merged_df['type_x'], \n",
    "    epochs=10, \n",
    "    batch_size=32, \n",
    "    validation_split=0.2\n",
    ")\n"
   ]
  },
  {
   "cell_type": "code",
   "execution_count": 3,
   "metadata": {
    "execution": {
     "iopub.execute_input": "2024-11-18T05:48:23.632103Z",
     "iopub.status.busy": "2024-11-18T05:48:23.631165Z",
     "iopub.status.idle": "2024-11-18T05:48:23.741106Z",
     "shell.execute_reply": "2024-11-18T05:48:23.739892Z",
     "shell.execute_reply.started": "2024-11-18T05:48:23.632008Z"
    }
   },
   "outputs": [
    {
     "name": "stdout",
     "output_type": "stream",
     "text": [
      "\u001b[1m1/1\u001b[0m \u001b[32m━━━━━━━━━━━━━━━━━━━━\u001b[0m\u001b[37m\u001b[0m \u001b[1m0s\u001b[0m 37ms/step\n",
      "Relación predicha: ['Positive_Correlation']\n",
      "Entidad 1: protein kinase\n",
      "Entidad 2: receptor\n"
     ]
    }
   ],
   "source": [
    "from tensorflow.keras.models import load_model\n",
    "from tensorflow.keras.preprocessing.sequence import pad_sequences\n",
    "import numpy as np\n",
    "\n",
    "# Supongamos que ya has cargado el modelo\n",
    "model = model_rnn\n",
    "\n",
    "# Ejemplo de un nuevo abstract y dos entidades\n",
    "new_abstract = \"The protein kinase interacts with the receptor in a significant way.\"\n",
    "entity_1_mention = \"protein kinase\"\n",
    "entity_2_mention = \"receptor\"\n",
    "\n",
    "# Preprocesar el texto: concatenar abstract y menciones\n",
    "input_text = new_abstract.lower() + \" [ENT1] \" + entity_1_mention.lower() + \" [ENT2] \" + entity_2_mention.lower()\n",
    "\n",
    "# Tokenizar el texto usando el tokenizer entrenado\n",
    "sequence = tokenizer.texts_to_sequences([input_text])  # Convertir a secuencia numérica\n",
    "padded_sequence = pad_sequences(sequence, maxlen=100, padding='post')  # Aplicar padding\n",
    "\n",
    "# Realizar la predicción\n",
    "prediction = model.predict(padded_sequence)\n",
    "\n",
    "# Obtener la clase predicha\n",
    "predicted_class = np.argmax(prediction, axis=1)[0]  # Índice de la clase con mayor probabilidad\n",
    "\n",
    "# Convertir el índice numérico de vuelta al nombre de la relación\n",
    "predicted_relation = label_encoder.inverse_transform([predicted_class])\n",
    "\n",
    "print(\"Relación predicha:\", predicted_relation)\n",
    "print(\"Entidad 1:\", entity_1_mention)\n",
    "print(\"Entidad 2:\", entity_2_mention)\n"
   ]
  }
 ],
 "metadata": {
  "kaggle": {
   "accelerator": "none",
   "dataSources": [
    {
     "datasetId": 6109517,
     "sourceId": 9937714,
     "sourceType": "datasetVersion"
    }
   ],
   "dockerImageVersionId": 30786,
   "isGpuEnabled": false,
   "isInternetEnabled": false,
   "language": "python",
   "sourceType": "notebook"
  },
  "kernelspec": {
   "display_name": "Python 3 (ipykernel)",
   "language": "python",
   "name": "python3"
  },
  "language_info": {
   "codemirror_mode": {
    "name": "ipython",
    "version": 3
   },
   "file_extension": ".py",
   "mimetype": "text/x-python",
   "name": "python",
   "nbconvert_exporter": "python",
   "pygments_lexer": "ipython3",
   "version": "3.10.12"
  }
 },
 "nbformat": 4,
 "nbformat_minor": 4
}
