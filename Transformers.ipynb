{
 "cells": [
  {
   "cell_type": "markdown",
   "metadata": {},
   "source": [
    "# Transformer based relationship extractor"
   ]
  },
  {
   "cell_type": "markdown",
   "metadata": {},
   "source": [
    "### Dependencias"
   ]
  },
  {
   "cell_type": "code",
   "execution_count": 41,
   "metadata": {},
   "outputs": [],
   "source": [
    "import numpy as np\n",
    "import pandas as pd\n",
    "from sklearn.preprocessing import LabelEncoder\n",
    "from transformers import AutoTokenizer, AutoModelForSequenceClassification, Trainer, TrainingArguments\n",
    "from sklearn.model_selection import train_test_split\n",
    "from torch.utils.data import Dataset, DataLoader\n",
    "import matplotlib.pyplot as plt\n",
    "from sklearn.metrics import confusion_matrix, classification_report\n",
    "import torch\n",
    "from torch.utils.data import Dataset\n",
    "from sklearn.metrics import accuracy_score, precision_recall_fscore_support"
   ]
  },
  {
   "cell_type": "markdown",
   "metadata": {},
   "source": [
    "### Preparación, preprocesamiento y “Feature Engineering”"
   ]
  },
  {
   "cell_type": "code",
   "execution_count": 42,
   "metadata": {},
   "outputs": [
    {
     "data": {
      "text/html": [
       "<div>\n",
       "<style scoped>\n",
       "    .dataframe tbody tr th:only-of-type {\n",
       "        vertical-align: middle;\n",
       "    }\n",
       "\n",
       "    .dataframe tbody tr th {\n",
       "        vertical-align: top;\n",
       "    }\n",
       "\n",
       "    .dataframe thead th {\n",
       "        text-align: right;\n",
       "    }\n",
       "</style>\n",
       "<table border=\"1\" class=\"dataframe\">\n",
       "  <thead>\n",
       "    <tr style=\"text-align: right;\">\n",
       "      <th></th>\n",
       "      <th>id</th>\n",
       "      <th>abstract_id</th>\n",
       "      <th>type</th>\n",
       "      <th>entity_1_id</th>\n",
       "      <th>entity_2_id</th>\n",
       "      <th>novel</th>\n",
       "      <th>abstract</th>\n",
       "      <th>title</th>\n",
       "    </tr>\n",
       "  </thead>\n",
       "  <tbody>\n",
       "    <tr>\n",
       "      <th>0</th>\n",
       "      <td>0</td>\n",
       "      <td>1353340</td>\n",
       "      <td>Association</td>\n",
       "      <td>410</td>\n",
       "      <td>D007966</td>\n",
       "      <td>No</td>\n",
       "      <td>We report on a new allele at the arylsulfatase...</td>\n",
       "      <td>Late-onset metachromatic leukodystrophy: molec...</td>\n",
       "    </tr>\n",
       "    <tr>\n",
       "      <th>1</th>\n",
       "      <td>1</td>\n",
       "      <td>1353340</td>\n",
       "      <td>Positive_Correlation</td>\n",
       "      <td>rs74315458</td>\n",
       "      <td>D007966</td>\n",
       "      <td>Novel</td>\n",
       "      <td>We report on a new allele at the arylsulfatase...</td>\n",
       "      <td>Late-onset metachromatic leukodystrophy: molec...</td>\n",
       "    </tr>\n",
       "    <tr>\n",
       "      <th>2</th>\n",
       "      <td>2</td>\n",
       "      <td>1671881</td>\n",
       "      <td>Positive_Correlation</td>\n",
       "      <td>D010661</td>\n",
       "      <td>rs62514952</td>\n",
       "      <td>Novel</td>\n",
       "      <td>Classical phenylketonuria is an autosomal rece...</td>\n",
       "      <td>Two distinct mutations at a single BamHI site ...</td>\n",
       "    </tr>\n",
       "    <tr>\n",
       "      <th>3</th>\n",
       "      <td>3</td>\n",
       "      <td>1671881</td>\n",
       "      <td>Positive_Correlation</td>\n",
       "      <td>D010661</td>\n",
       "      <td>rs62514953</td>\n",
       "      <td>Novel</td>\n",
       "      <td>Classical phenylketonuria is an autosomal rece...</td>\n",
       "      <td>Two distinct mutations at a single BamHI site ...</td>\n",
       "    </tr>\n",
       "    <tr>\n",
       "      <th>4</th>\n",
       "      <td>4</td>\n",
       "      <td>1671881</td>\n",
       "      <td>Association</td>\n",
       "      <td>5053</td>\n",
       "      <td>D010661</td>\n",
       "      <td>No</td>\n",
       "      <td>Classical phenylketonuria is an autosomal rece...</td>\n",
       "      <td>Two distinct mutations at a single BamHI site ...</td>\n",
       "    </tr>\n",
       "  </tbody>\n",
       "</table>\n",
       "</div>"
      ],
      "text/plain": [
       "   id abstract_id                  type entity_1_id entity_2_id  novel  \\\n",
       "0   0     1353340           Association         410     D007966     No   \n",
       "1   1     1353340  Positive_Correlation  rs74315458     D007966  Novel   \n",
       "2   2     1671881  Positive_Correlation     D010661  rs62514952  Novel   \n",
       "3   3     1671881  Positive_Correlation     D010661  rs62514953  Novel   \n",
       "4   4     1671881           Association        5053     D010661     No   \n",
       "\n",
       "                                            abstract  \\\n",
       "0  We report on a new allele at the arylsulfatase...   \n",
       "1  We report on a new allele at the arylsulfatase...   \n",
       "2  Classical phenylketonuria is an autosomal rece...   \n",
       "3  Classical phenylketonuria is an autosomal rece...   \n",
       "4  Classical phenylketonuria is an autosomal rece...   \n",
       "\n",
       "                                               title  \n",
       "0  Late-onset metachromatic leukodystrophy: molec...  \n",
       "1  Late-onset metachromatic leukodystrophy: molec...  \n",
       "2  Two distinct mutations at a single BamHI site ...  \n",
       "3  Two distinct mutations at a single BamHI site ...  \n",
       "4  Two distinct mutations at a single BamHI site ...  "
      ]
     },
     "execution_count": 42,
     "metadata": {},
     "output_type": "execute_result"
    }
   ],
   "source": [
    "# Cargar los archivos con el separador adecuado (tabulación)\n",
    "entities_df = pd.read_csv('entities_train.csv', sep='\\t')\n",
    "abstracts_df = pd.read_csv('abstracts_train.csv', sep='\\t')\n",
    "relations_df = pd.read_csv('relations_train.csv', sep='\\t')\n",
    "\n",
    "# Asegurarse de que todos los identificadores de 'abstract_id' sean strings\n",
    "entities_df['abstract_id'] = entities_df['abstract_id'].astype(str)\n",
    "abstracts_df['abstract_id'] = abstracts_df['abstract_id'].astype(str)\n",
    "relations_df['abstract_id'] = relations_df['abstract_id'].astype(str)\n",
    "\n",
    "# Unir los resúmenes con las relaciones usando 'abstract_id'\n",
    "merged_df = pd.merge(relations_df, abstracts_df[['abstract_id', 'abstract', 'title']], on='abstract_id', how='inner')\n",
    "\n",
    "merged_df.head()\n",
    "\n",
    "# Guardar el DataFrame en un archivo CSV para futuros usos\n",
    "# merged_df.to_csv('merged.csv', index=False)"
   ]
  },
  {
   "cell_type": "code",
   "execution_count": 43,
   "metadata": {},
   "outputs": [
    {
     "data": {
      "text/html": [
       "<div>\n",
       "<style scoped>\n",
       "    .dataframe tbody tr th:only-of-type {\n",
       "        vertical-align: middle;\n",
       "    }\n",
       "\n",
       "    .dataframe tbody tr th {\n",
       "        vertical-align: top;\n",
       "    }\n",
       "\n",
       "    .dataframe thead th {\n",
       "        text-align: right;\n",
       "    }\n",
       "</style>\n",
       "<table border=\"1\" class=\"dataframe\">\n",
       "  <thead>\n",
       "    <tr style=\"text-align: right;\">\n",
       "      <th></th>\n",
       "      <th>id</th>\n",
       "      <th>abstract_id</th>\n",
       "      <th>type_x</th>\n",
       "      <th>entity_1_id</th>\n",
       "      <th>entity_2_id</th>\n",
       "      <th>novel</th>\n",
       "      <th>abstract</th>\n",
       "      <th>title</th>\n",
       "      <th>entity_ids</th>\n",
       "      <th>entity_1_mention</th>\n",
       "      <th>entity_1_type</th>\n",
       "    </tr>\n",
       "  </thead>\n",
       "  <tbody>\n",
       "    <tr>\n",
       "      <th>0</th>\n",
       "      <td>0</td>\n",
       "      <td>1353340</td>\n",
       "      <td>Association</td>\n",
       "      <td>410</td>\n",
       "      <td>D007966</td>\n",
       "      <td>No</td>\n",
       "      <td>We report on a new allele at the arylsulfatase...</td>\n",
       "      <td>Late-onset metachromatic leukodystrophy: molec...</td>\n",
       "      <td>410</td>\n",
       "      <td>arylsulfatase A</td>\n",
       "      <td>GeneOrGeneProduct</td>\n",
       "    </tr>\n",
       "    <tr>\n",
       "      <th>1</th>\n",
       "      <td>0</td>\n",
       "      <td>1353340</td>\n",
       "      <td>Association</td>\n",
       "      <td>410</td>\n",
       "      <td>D007966</td>\n",
       "      <td>No</td>\n",
       "      <td>We report on a new allele at the arylsulfatase...</td>\n",
       "      <td>Late-onset metachromatic leukodystrophy: molec...</td>\n",
       "      <td>410</td>\n",
       "      <td>ARSA</td>\n",
       "      <td>GeneOrGeneProduct</td>\n",
       "    </tr>\n",
       "    <tr>\n",
       "      <th>2</th>\n",
       "      <td>0</td>\n",
       "      <td>1353340</td>\n",
       "      <td>Association</td>\n",
       "      <td>410</td>\n",
       "      <td>D007966</td>\n",
       "      <td>No</td>\n",
       "      <td>We report on a new allele at the arylsulfatase...</td>\n",
       "      <td>Late-onset metachromatic leukodystrophy: molec...</td>\n",
       "      <td>410</td>\n",
       "      <td>arylsulfatase</td>\n",
       "      <td>GeneOrGeneProduct</td>\n",
       "    </tr>\n",
       "    <tr>\n",
       "      <th>3</th>\n",
       "      <td>0</td>\n",
       "      <td>1353340</td>\n",
       "      <td>Association</td>\n",
       "      <td>410</td>\n",
       "      <td>D007966</td>\n",
       "      <td>No</td>\n",
       "      <td>We report on a new allele at the arylsulfatase...</td>\n",
       "      <td>Late-onset metachromatic leukodystrophy: molec...</td>\n",
       "      <td>410</td>\n",
       "      <td>ARSA</td>\n",
       "      <td>GeneOrGeneProduct</td>\n",
       "    </tr>\n",
       "    <tr>\n",
       "      <th>4</th>\n",
       "      <td>0</td>\n",
       "      <td>1353340</td>\n",
       "      <td>Association</td>\n",
       "      <td>410</td>\n",
       "      <td>D007966</td>\n",
       "      <td>No</td>\n",
       "      <td>We report on a new allele at the arylsulfatase...</td>\n",
       "      <td>Late-onset metachromatic leukodystrophy: molec...</td>\n",
       "      <td>410</td>\n",
       "      <td>ARSA</td>\n",
       "      <td>GeneOrGeneProduct</td>\n",
       "    </tr>\n",
       "  </tbody>\n",
       "</table>\n",
       "</div>"
      ],
      "text/plain": [
       "   id abstract_id       type_x entity_1_id entity_2_id novel  \\\n",
       "0   0     1353340  Association         410     D007966    No   \n",
       "1   0     1353340  Association         410     D007966    No   \n",
       "2   0     1353340  Association         410     D007966    No   \n",
       "3   0     1353340  Association         410     D007966    No   \n",
       "4   0     1353340  Association         410     D007966    No   \n",
       "\n",
       "                                            abstract  \\\n",
       "0  We report on a new allele at the arylsulfatase...   \n",
       "1  We report on a new allele at the arylsulfatase...   \n",
       "2  We report on a new allele at the arylsulfatase...   \n",
       "3  We report on a new allele at the arylsulfatase...   \n",
       "4  We report on a new allele at the arylsulfatase...   \n",
       "\n",
       "                                               title entity_ids  \\\n",
       "0  Late-onset metachromatic leukodystrophy: molec...        410   \n",
       "1  Late-onset metachromatic leukodystrophy: molec...        410   \n",
       "2  Late-onset metachromatic leukodystrophy: molec...        410   \n",
       "3  Late-onset metachromatic leukodystrophy: molec...        410   \n",
       "4  Late-onset metachromatic leukodystrophy: molec...        410   \n",
       "\n",
       "  entity_1_mention      entity_1_type  \n",
       "0  arylsulfatase A  GeneOrGeneProduct  \n",
       "1             ARSA  GeneOrGeneProduct  \n",
       "2    arylsulfatase  GeneOrGeneProduct  \n",
       "3             ARSA  GeneOrGeneProduct  \n",
       "4             ARSA  GeneOrGeneProduct  "
      ]
     },
     "execution_count": 43,
     "metadata": {},
     "output_type": "execute_result"
    }
   ],
   "source": [
    "# Unir la información de las entidades, primero para 'entity_1' y luego para 'entity_2'\n",
    "merged_df = pd.merge(merged_df, entities_df[['entity_ids', 'mention', 'type', 'abstract_id']],\n",
    "                     left_on=['abstract_id', 'entity_1_id'],\n",
    "                     right_on=['abstract_id', 'entity_ids'],\n",
    "                     how='inner')\n",
    "\n",
    "\n",
    "\n",
    "# Renombrar las columnas para la entidad 1\n",
    "merged_df.rename(columns={'mention': 'entity_1_mention', 'type_y': 'entity_1_type'}, inplace=True)\n",
    "\n",
    "merged_df.head()"
   ]
  },
  {
   "cell_type": "code",
   "execution_count": 44,
   "metadata": {},
   "outputs": [
    {
     "data": {
      "text/plain": [
       "Index(['id', 'abstract_id', 'type_x', 'entity_1_id', 'entity_2_id', 'novel',\n",
       "       'abstract', 'title', 'entity_ids', 'entity_1_mention', 'entity_1_type'],\n",
       "      dtype='object')"
      ]
     },
     "execution_count": 44,
     "metadata": {},
     "output_type": "execute_result"
    }
   ],
   "source": [
    "merged_df.columns"
   ]
  },
  {
   "cell_type": "code",
   "execution_count": 45,
   "metadata": {},
   "outputs": [
    {
     "data": {
      "text/html": [
       "<div>\n",
       "<style scoped>\n",
       "    .dataframe tbody tr th:only-of-type {\n",
       "        vertical-align: middle;\n",
       "    }\n",
       "\n",
       "    .dataframe tbody tr th {\n",
       "        vertical-align: top;\n",
       "    }\n",
       "\n",
       "    .dataframe thead th {\n",
       "        text-align: right;\n",
       "    }\n",
       "</style>\n",
       "<table border=\"1\" class=\"dataframe\">\n",
       "  <thead>\n",
       "    <tr style=\"text-align: right;\">\n",
       "      <th></th>\n",
       "      <th>id</th>\n",
       "      <th>abstract_id</th>\n",
       "      <th>type_x</th>\n",
       "      <th>entity_1_id</th>\n",
       "      <th>entity_2_id</th>\n",
       "      <th>novel</th>\n",
       "      <th>abstract</th>\n",
       "      <th>title</th>\n",
       "      <th>entity_ids_x</th>\n",
       "      <th>entity_1_mention</th>\n",
       "      <th>entity_1_type</th>\n",
       "      <th>entity_ids_y</th>\n",
       "      <th>entity_2_mention</th>\n",
       "      <th>entity_2_type</th>\n",
       "    </tr>\n",
       "  </thead>\n",
       "  <tbody>\n",
       "    <tr>\n",
       "      <th>0</th>\n",
       "      <td>0</td>\n",
       "      <td>1353340</td>\n",
       "      <td>Association</td>\n",
       "      <td>410</td>\n",
       "      <td>D007966</td>\n",
       "      <td>No</td>\n",
       "      <td>We report on a new allele at the arylsulfatase...</td>\n",
       "      <td>Late-onset metachromatic leukodystrophy: molec...</td>\n",
       "      <td>410</td>\n",
       "      <td>arylsulfatase A</td>\n",
       "      <td>GeneOrGeneProduct</td>\n",
       "      <td>D007966</td>\n",
       "      <td>metachromatic leukodystrophy</td>\n",
       "      <td>DiseaseOrPhenotypicFeature</td>\n",
       "    </tr>\n",
       "    <tr>\n",
       "      <th>1</th>\n",
       "      <td>0</td>\n",
       "      <td>1353340</td>\n",
       "      <td>Association</td>\n",
       "      <td>410</td>\n",
       "      <td>D007966</td>\n",
       "      <td>No</td>\n",
       "      <td>We report on a new allele at the arylsulfatase...</td>\n",
       "      <td>Late-onset metachromatic leukodystrophy: molec...</td>\n",
       "      <td>410</td>\n",
       "      <td>arylsulfatase A</td>\n",
       "      <td>GeneOrGeneProduct</td>\n",
       "      <td>D007966</td>\n",
       "      <td>metachromatic leukodystrophy</td>\n",
       "      <td>DiseaseOrPhenotypicFeature</td>\n",
       "    </tr>\n",
       "    <tr>\n",
       "      <th>2</th>\n",
       "      <td>0</td>\n",
       "      <td>1353340</td>\n",
       "      <td>Association</td>\n",
       "      <td>410</td>\n",
       "      <td>D007966</td>\n",
       "      <td>No</td>\n",
       "      <td>We report on a new allele at the arylsulfatase...</td>\n",
       "      <td>Late-onset metachromatic leukodystrophy: molec...</td>\n",
       "      <td>410</td>\n",
       "      <td>arylsulfatase A</td>\n",
       "      <td>GeneOrGeneProduct</td>\n",
       "      <td>D007966</td>\n",
       "      <td>MLD</td>\n",
       "      <td>DiseaseOrPhenotypicFeature</td>\n",
       "    </tr>\n",
       "    <tr>\n",
       "      <th>3</th>\n",
       "      <td>0</td>\n",
       "      <td>1353340</td>\n",
       "      <td>Association</td>\n",
       "      <td>410</td>\n",
       "      <td>D007966</td>\n",
       "      <td>No</td>\n",
       "      <td>We report on a new allele at the arylsulfatase...</td>\n",
       "      <td>Late-onset metachromatic leukodystrophy: molec...</td>\n",
       "      <td>410</td>\n",
       "      <td>arylsulfatase A</td>\n",
       "      <td>GeneOrGeneProduct</td>\n",
       "      <td>D007966</td>\n",
       "      <td>MLD</td>\n",
       "      <td>DiseaseOrPhenotypicFeature</td>\n",
       "    </tr>\n",
       "    <tr>\n",
       "      <th>4</th>\n",
       "      <td>0</td>\n",
       "      <td>1353340</td>\n",
       "      <td>Association</td>\n",
       "      <td>410</td>\n",
       "      <td>D007966</td>\n",
       "      <td>No</td>\n",
       "      <td>We report on a new allele at the arylsulfatase...</td>\n",
       "      <td>Late-onset metachromatic leukodystrophy: molec...</td>\n",
       "      <td>410</td>\n",
       "      <td>arylsulfatase A</td>\n",
       "      <td>GeneOrGeneProduct</td>\n",
       "      <td>D007966</td>\n",
       "      <td>MLD</td>\n",
       "      <td>DiseaseOrPhenotypicFeature</td>\n",
       "    </tr>\n",
       "  </tbody>\n",
       "</table>\n",
       "</div>"
      ],
      "text/plain": [
       "   id abstract_id       type_x entity_1_id entity_2_id novel  \\\n",
       "0   0     1353340  Association         410     D007966    No   \n",
       "1   0     1353340  Association         410     D007966    No   \n",
       "2   0     1353340  Association         410     D007966    No   \n",
       "3   0     1353340  Association         410     D007966    No   \n",
       "4   0     1353340  Association         410     D007966    No   \n",
       "\n",
       "                                            abstract  \\\n",
       "0  We report on a new allele at the arylsulfatase...   \n",
       "1  We report on a new allele at the arylsulfatase...   \n",
       "2  We report on a new allele at the arylsulfatase...   \n",
       "3  We report on a new allele at the arylsulfatase...   \n",
       "4  We report on a new allele at the arylsulfatase...   \n",
       "\n",
       "                                               title entity_ids_x  \\\n",
       "0  Late-onset metachromatic leukodystrophy: molec...          410   \n",
       "1  Late-onset metachromatic leukodystrophy: molec...          410   \n",
       "2  Late-onset metachromatic leukodystrophy: molec...          410   \n",
       "3  Late-onset metachromatic leukodystrophy: molec...          410   \n",
       "4  Late-onset metachromatic leukodystrophy: molec...          410   \n",
       "\n",
       "  entity_1_mention      entity_1_type entity_ids_y  \\\n",
       "0  arylsulfatase A  GeneOrGeneProduct      D007966   \n",
       "1  arylsulfatase A  GeneOrGeneProduct      D007966   \n",
       "2  arylsulfatase A  GeneOrGeneProduct      D007966   \n",
       "3  arylsulfatase A  GeneOrGeneProduct      D007966   \n",
       "4  arylsulfatase A  GeneOrGeneProduct      D007966   \n",
       "\n",
       "               entity_2_mention               entity_2_type  \n",
       "0  metachromatic leukodystrophy  DiseaseOrPhenotypicFeature  \n",
       "1  metachromatic leukodystrophy  DiseaseOrPhenotypicFeature  \n",
       "2                           MLD  DiseaseOrPhenotypicFeature  \n",
       "3                           MLD  DiseaseOrPhenotypicFeature  \n",
       "4                           MLD  DiseaseOrPhenotypicFeature  "
      ]
     },
     "execution_count": 45,
     "metadata": {},
     "output_type": "execute_result"
    }
   ],
   "source": [
    "# Unir nuevamente con las entidades para obtener la entidad 2\n",
    "merged_df = pd.merge(merged_df, entities_df[['entity_ids', 'mention', 'type', 'abstract_id']],\n",
    "                     left_on=['abstract_id', 'entity_2_id'],\n",
    "                     right_on=['abstract_id', 'entity_ids'],\n",
    "                     how='inner')\n",
    "\n",
    "# Renombrar las columnas para la entidad 2\n",
    "merged_df.rename(columns={'mention': 'entity_2_mention', 'type': 'entity_2_type'}, inplace=True)\n",
    "\n",
    "# Verificar el DataFrame de entrenamiento\n",
    "merged_df.head()"
   ]
  },
  {
   "cell_type": "code",
   "execution_count": 46,
   "metadata": {},
   "outputs": [
    {
     "name": "stdout",
     "output_type": "stream",
     "text": [
      "Columnas disponibles después de la fusión: Index(['id', 'abstract_id', 'type_x', 'entity_1_id', 'entity_2_id', 'novel',\n",
      "       'abstract', 'title', 'entity_ids_x', 'entity_1_mention',\n",
      "       'entity_1_type', 'entity_ids_y', 'entity_2_mention', 'entity_2_type'],\n",
      "      dtype='object')\n",
      "<class 'pandas.core.frame.DataFrame'>\n",
      "RangeIndex: 73910 entries, 0 to 73909\n",
      "Data columns (total 14 columns):\n",
      " #   Column            Non-Null Count  Dtype \n",
      "---  ------            --------------  ----- \n",
      " 0   id                73910 non-null  int64 \n",
      " 1   abstract_id       73910 non-null  object\n",
      " 2   type_x            73910 non-null  object\n",
      " 3   entity_1_id       73910 non-null  object\n",
      " 4   entity_2_id       73910 non-null  object\n",
      " 5   novel             73910 non-null  object\n",
      " 6   abstract          73910 non-null  object\n",
      " 7   title             73910 non-null  object\n",
      " 8   entity_ids_x      73910 non-null  object\n",
      " 9   entity_1_mention  73910 non-null  object\n",
      " 10  entity_1_type     73910 non-null  object\n",
      " 11  entity_ids_y      73910 non-null  object\n",
      " 12  entity_2_mention  73910 non-null  object\n",
      " 13  entity_2_type     73910 non-null  object\n",
      "dtypes: int64(1), object(13)\n",
      "memory usage: 7.9+ MB\n"
     ]
    }
   ],
   "source": [
    "print(\"Columnas disponibles después de la fusión:\", merged_df.columns)\n",
    "merged_df.info()\n",
    "merged_df.to_csv('merged.csv', index=False)"
   ]
  },
  {
   "cell_type": "code",
   "execution_count": 47,
   "metadata": {},
   "outputs": [
    {
     "data": {
      "text/html": [
       "<div>\n",
       "<style scoped>\n",
       "    .dataframe tbody tr th:only-of-type {\n",
       "        vertical-align: middle;\n",
       "    }\n",
       "\n",
       "    .dataframe tbody tr th {\n",
       "        vertical-align: top;\n",
       "    }\n",
       "\n",
       "    .dataframe thead th {\n",
       "        text-align: right;\n",
       "    }\n",
       "</style>\n",
       "<table border=\"1\" class=\"dataframe\">\n",
       "  <thead>\n",
       "    <tr style=\"text-align: right;\">\n",
       "      <th></th>\n",
       "      <th>abstract_id</th>\n",
       "      <th>abstract</th>\n",
       "      <th>type_x</th>\n",
       "      <th>entity_1_mention</th>\n",
       "      <th>entity_2_mention</th>\n",
       "      <th>entity_1_type</th>\n",
       "      <th>entity_2_type</th>\n",
       "    </tr>\n",
       "  </thead>\n",
       "  <tbody>\n",
       "    <tr>\n",
       "      <th>0</th>\n",
       "      <td>1353340</td>\n",
       "      <td>We report on a new allele at the arylsulfatase...</td>\n",
       "      <td>Association</td>\n",
       "      <td>arylsulfatase A</td>\n",
       "      <td>metachromatic leukodystrophy</td>\n",
       "      <td>GeneOrGeneProduct</td>\n",
       "      <td>DiseaseOrPhenotypicFeature</td>\n",
       "    </tr>\n",
       "    <tr>\n",
       "      <th>2</th>\n",
       "      <td>1353340</td>\n",
       "      <td>We report on a new allele at the arylsulfatase...</td>\n",
       "      <td>Association</td>\n",
       "      <td>arylsulfatase A</td>\n",
       "      <td>MLD</td>\n",
       "      <td>GeneOrGeneProduct</td>\n",
       "      <td>DiseaseOrPhenotypicFeature</td>\n",
       "    </tr>\n",
       "    <tr>\n",
       "      <th>6</th>\n",
       "      <td>1353340</td>\n",
       "      <td>We report on a new allele at the arylsulfatase...</td>\n",
       "      <td>Association</td>\n",
       "      <td>ARSA</td>\n",
       "      <td>metachromatic leukodystrophy</td>\n",
       "      <td>GeneOrGeneProduct</td>\n",
       "      <td>DiseaseOrPhenotypicFeature</td>\n",
       "    </tr>\n",
       "    <tr>\n",
       "      <th>8</th>\n",
       "      <td>1353340</td>\n",
       "      <td>We report on a new allele at the arylsulfatase...</td>\n",
       "      <td>Association</td>\n",
       "      <td>ARSA</td>\n",
       "      <td>MLD</td>\n",
       "      <td>GeneOrGeneProduct</td>\n",
       "      <td>DiseaseOrPhenotypicFeature</td>\n",
       "    </tr>\n",
       "    <tr>\n",
       "      <th>12</th>\n",
       "      <td>1353340</td>\n",
       "      <td>We report on a new allele at the arylsulfatase...</td>\n",
       "      <td>Association</td>\n",
       "      <td>arylsulfatase</td>\n",
       "      <td>metachromatic leukodystrophy</td>\n",
       "      <td>GeneOrGeneProduct</td>\n",
       "      <td>DiseaseOrPhenotypicFeature</td>\n",
       "    </tr>\n",
       "  </tbody>\n",
       "</table>\n",
       "</div>"
      ],
      "text/plain": [
       "   abstract_id                                           abstract  \\\n",
       "0      1353340  We report on a new allele at the arylsulfatase...   \n",
       "2      1353340  We report on a new allele at the arylsulfatase...   \n",
       "6      1353340  We report on a new allele at the arylsulfatase...   \n",
       "8      1353340  We report on a new allele at the arylsulfatase...   \n",
       "12     1353340  We report on a new allele at the arylsulfatase...   \n",
       "\n",
       "         type_x entity_1_mention              entity_2_mention  \\\n",
       "0   Association  arylsulfatase A  metachromatic leukodystrophy   \n",
       "2   Association  arylsulfatase A                           MLD   \n",
       "6   Association             ARSA  metachromatic leukodystrophy   \n",
       "8   Association             ARSA                           MLD   \n",
       "12  Association    arylsulfatase  metachromatic leukodystrophy   \n",
       "\n",
       "        entity_1_type               entity_2_type  \n",
       "0   GeneOrGeneProduct  DiseaseOrPhenotypicFeature  \n",
       "2   GeneOrGeneProduct  DiseaseOrPhenotypicFeature  \n",
       "6   GeneOrGeneProduct  DiseaseOrPhenotypicFeature  \n",
       "8   GeneOrGeneProduct  DiseaseOrPhenotypicFeature  \n",
       "12  GeneOrGeneProduct  DiseaseOrPhenotypicFeature  "
      ]
     },
     "execution_count": 47,
     "metadata": {},
     "output_type": "execute_result"
    }
   ],
   "source": [
    "# Drop any potential duplicates\n",
    "merged_df = merged_df.drop_duplicates()\n",
    "\n",
    "# Retain only necessary columns for relationship extraction\n",
    "merged_df = merged_df[['abstract_id', 'abstract', 'type_x', 'entity_1_mention', 'entity_2_mention', 'entity_1_type', 'entity_2_type']]\n",
    "\n",
    "merged_df.head()\n"
   ]
  },
  {
   "cell_type": "code",
   "execution_count": 48,
   "metadata": {},
   "outputs": [
    {
     "name": "stdout",
     "output_type": "stream",
     "text": [
      "                                   processed_abstract\n",
      "0   We report on a new allele at the [ENTITY_1]ary...\n",
      "2   We report on a new allele at the [ENTITY_1]ary...\n",
      "6   We report on a new allele at the arylsulfatase...\n",
      "8   We report on a new allele at the arylsulfatase...\n",
      "12  We report on a new allele at the [ENTITY_1]ary...\n"
     ]
    }
   ],
   "source": [
    "def insert_entity_tokens(row):\n",
    "    abstract = row['abstract']\n",
    "    e1_mention = row['entity_1_mention']\n",
    "    e2_mention = row['entity_2_mention']\n",
    "    \n",
    "    # Insert unique markers for each entity\n",
    "    abstract = abstract.replace(e1_mention, f\"[ENTITY_1]{e1_mention}[/ENTITY_1]\")\n",
    "    abstract = abstract.replace(e2_mention, f\"[ENTITY_2]{e2_mention}[/ENTITY_2]\")\n",
    "    return abstract\n",
    "\n",
    "# Apply tokenization to abstracts\n",
    "merged_df['processed_abstract'] = merged_df.apply(insert_entity_tokens, axis=1)\n",
    "\n",
    "# Verify output\n",
    "print(merged_df[['processed_abstract']].head())\n"
   ]
  },
  {
   "cell_type": "code",
   "execution_count": 49,
   "metadata": {},
   "outputs": [
    {
     "data": {
      "text/html": [
       "<div>\n",
       "<style scoped>\n",
       "    .dataframe tbody tr th:only-of-type {\n",
       "        vertical-align: middle;\n",
       "    }\n",
       "\n",
       "    .dataframe tbody tr th {\n",
       "        vertical-align: top;\n",
       "    }\n",
       "\n",
       "    .dataframe thead th {\n",
       "        text-align: right;\n",
       "    }\n",
       "</style>\n",
       "<table border=\"1\" class=\"dataframe\">\n",
       "  <thead>\n",
       "    <tr style=\"text-align: right;\">\n",
       "      <th></th>\n",
       "      <th>abstract_id</th>\n",
       "      <th>abstract</th>\n",
       "      <th>type_x</th>\n",
       "      <th>entity_1_mention</th>\n",
       "      <th>entity_2_mention</th>\n",
       "      <th>entity_1_type</th>\n",
       "      <th>entity_2_type</th>\n",
       "      <th>processed_abstract</th>\n",
       "    </tr>\n",
       "  </thead>\n",
       "  <tbody>\n",
       "    <tr>\n",
       "      <th>0</th>\n",
       "      <td>1353340</td>\n",
       "      <td>We report on a new allele at the arylsulfatase...</td>\n",
       "      <td>Association</td>\n",
       "      <td>arylsulfatase A</td>\n",
       "      <td>metachromatic leukodystrophy</td>\n",
       "      <td>GeneOrGeneProduct</td>\n",
       "      <td>DiseaseOrPhenotypicFeature</td>\n",
       "      <td>We report on a new allele at the [ENTITY_1]ary...</td>\n",
       "    </tr>\n",
       "    <tr>\n",
       "      <th>2</th>\n",
       "      <td>1353340</td>\n",
       "      <td>We report on a new allele at the arylsulfatase...</td>\n",
       "      <td>Association</td>\n",
       "      <td>arylsulfatase A</td>\n",
       "      <td>MLD</td>\n",
       "      <td>GeneOrGeneProduct</td>\n",
       "      <td>DiseaseOrPhenotypicFeature</td>\n",
       "      <td>We report on a new allele at the [ENTITY_1]ary...</td>\n",
       "    </tr>\n",
       "    <tr>\n",
       "      <th>6</th>\n",
       "      <td>1353340</td>\n",
       "      <td>We report on a new allele at the arylsulfatase...</td>\n",
       "      <td>Association</td>\n",
       "      <td>ARSA</td>\n",
       "      <td>metachromatic leukodystrophy</td>\n",
       "      <td>GeneOrGeneProduct</td>\n",
       "      <td>DiseaseOrPhenotypicFeature</td>\n",
       "      <td>We report on a new allele at the arylsulfatase...</td>\n",
       "    </tr>\n",
       "    <tr>\n",
       "      <th>8</th>\n",
       "      <td>1353340</td>\n",
       "      <td>We report on a new allele at the arylsulfatase...</td>\n",
       "      <td>Association</td>\n",
       "      <td>ARSA</td>\n",
       "      <td>MLD</td>\n",
       "      <td>GeneOrGeneProduct</td>\n",
       "      <td>DiseaseOrPhenotypicFeature</td>\n",
       "      <td>We report on a new allele at the arylsulfatase...</td>\n",
       "    </tr>\n",
       "    <tr>\n",
       "      <th>12</th>\n",
       "      <td>1353340</td>\n",
       "      <td>We report on a new allele at the arylsulfatase...</td>\n",
       "      <td>Association</td>\n",
       "      <td>arylsulfatase</td>\n",
       "      <td>metachromatic leukodystrophy</td>\n",
       "      <td>GeneOrGeneProduct</td>\n",
       "      <td>DiseaseOrPhenotypicFeature</td>\n",
       "      <td>We report on a new allele at the [ENTITY_1]ary...</td>\n",
       "    </tr>\n",
       "  </tbody>\n",
       "</table>\n",
       "</div>"
      ],
      "text/plain": [
       "   abstract_id                                           abstract  \\\n",
       "0      1353340  We report on a new allele at the arylsulfatase...   \n",
       "2      1353340  We report on a new allele at the arylsulfatase...   \n",
       "6      1353340  We report on a new allele at the arylsulfatase...   \n",
       "8      1353340  We report on a new allele at the arylsulfatase...   \n",
       "12     1353340  We report on a new allele at the arylsulfatase...   \n",
       "\n",
       "         type_x entity_1_mention              entity_2_mention  \\\n",
       "0   Association  arylsulfatase A  metachromatic leukodystrophy   \n",
       "2   Association  arylsulfatase A                           MLD   \n",
       "6   Association             ARSA  metachromatic leukodystrophy   \n",
       "8   Association             ARSA                           MLD   \n",
       "12  Association    arylsulfatase  metachromatic leukodystrophy   \n",
       "\n",
       "        entity_1_type               entity_2_type  \\\n",
       "0   GeneOrGeneProduct  DiseaseOrPhenotypicFeature   \n",
       "2   GeneOrGeneProduct  DiseaseOrPhenotypicFeature   \n",
       "6   GeneOrGeneProduct  DiseaseOrPhenotypicFeature   \n",
       "8   GeneOrGeneProduct  DiseaseOrPhenotypicFeature   \n",
       "12  GeneOrGeneProduct  DiseaseOrPhenotypicFeature   \n",
       "\n",
       "                                   processed_abstract  \n",
       "0   We report on a new allele at the [ENTITY_1]ary...  \n",
       "2   We report on a new allele at the [ENTITY_1]ary...  \n",
       "6   We report on a new allele at the arylsulfatase...  \n",
       "8   We report on a new allele at the arylsulfatase...  \n",
       "12  We report on a new allele at the [ENTITY_1]ary...  "
      ]
     },
     "execution_count": 49,
     "metadata": {},
     "output_type": "execute_result"
    }
   ],
   "source": [
    "merged_df.head()"
   ]
  },
  {
   "cell_type": "code",
   "execution_count": 50,
   "metadata": {},
   "outputs": [
    {
     "data": {
      "text/html": [
       "<div>\n",
       "<style scoped>\n",
       "    .dataframe tbody tr th:only-of-type {\n",
       "        vertical-align: middle;\n",
       "    }\n",
       "\n",
       "    .dataframe tbody tr th {\n",
       "        vertical-align: top;\n",
       "    }\n",
       "\n",
       "    .dataframe thead th {\n",
       "        text-align: right;\n",
       "    }\n",
       "</style>\n",
       "<table border=\"1\" class=\"dataframe\">\n",
       "  <thead>\n",
       "    <tr style=\"text-align: right;\">\n",
       "      <th></th>\n",
       "      <th>processed_abstract</th>\n",
       "      <th>entity_1_type</th>\n",
       "      <th>entity_2_type</th>\n",
       "      <th>relationship_label</th>\n",
       "    </tr>\n",
       "  </thead>\n",
       "  <tbody>\n",
       "    <tr>\n",
       "      <th>0</th>\n",
       "      <td>We report on a new allele at the [ENTITY_1]ary...</td>\n",
       "      <td>GeneOrGeneProduct</td>\n",
       "      <td>DiseaseOrPhenotypicFeature</td>\n",
       "      <td>0</td>\n",
       "    </tr>\n",
       "    <tr>\n",
       "      <th>2</th>\n",
       "      <td>We report on a new allele at the [ENTITY_1]ary...</td>\n",
       "      <td>GeneOrGeneProduct</td>\n",
       "      <td>DiseaseOrPhenotypicFeature</td>\n",
       "      <td>0</td>\n",
       "    </tr>\n",
       "    <tr>\n",
       "      <th>6</th>\n",
       "      <td>We report on a new allele at the arylsulfatase...</td>\n",
       "      <td>GeneOrGeneProduct</td>\n",
       "      <td>DiseaseOrPhenotypicFeature</td>\n",
       "      <td>0</td>\n",
       "    </tr>\n",
       "    <tr>\n",
       "      <th>8</th>\n",
       "      <td>We report on a new allele at the arylsulfatase...</td>\n",
       "      <td>GeneOrGeneProduct</td>\n",
       "      <td>DiseaseOrPhenotypicFeature</td>\n",
       "      <td>0</td>\n",
       "    </tr>\n",
       "    <tr>\n",
       "      <th>12</th>\n",
       "      <td>We report on a new allele at the [ENTITY_1]ary...</td>\n",
       "      <td>GeneOrGeneProduct</td>\n",
       "      <td>DiseaseOrPhenotypicFeature</td>\n",
       "      <td>0</td>\n",
       "    </tr>\n",
       "  </tbody>\n",
       "</table>\n",
       "</div>"
      ],
      "text/plain": [
       "                                   processed_abstract      entity_1_type  \\\n",
       "0   We report on a new allele at the [ENTITY_1]ary...  GeneOrGeneProduct   \n",
       "2   We report on a new allele at the [ENTITY_1]ary...  GeneOrGeneProduct   \n",
       "6   We report on a new allele at the arylsulfatase...  GeneOrGeneProduct   \n",
       "8   We report on a new allele at the arylsulfatase...  GeneOrGeneProduct   \n",
       "12  We report on a new allele at the [ENTITY_1]ary...  GeneOrGeneProduct   \n",
       "\n",
       "                 entity_2_type  relationship_label  \n",
       "0   DiseaseOrPhenotypicFeature                   0  \n",
       "2   DiseaseOrPhenotypicFeature                   0  \n",
       "6   DiseaseOrPhenotypicFeature                   0  \n",
       "8   DiseaseOrPhenotypicFeature                   0  \n",
       "12  DiseaseOrPhenotypicFeature                   0  "
      ]
     },
     "execution_count": 50,
     "metadata": {},
     "output_type": "execute_result"
    }
   ],
   "source": [
    "label_encoder = LabelEncoder()\n",
    "merged_df['relationship_label'] = label_encoder.fit_transform(merged_df['type_x'])\n",
    "\n",
    "# Save processed data to CSV\n",
    "processed_data = merged_df[['processed_abstract', 'entity_1_type', 'entity_2_type', 'relationship_label']]\n",
    "processed_data.head()"
   ]
  },
  {
   "cell_type": "code",
   "execution_count": 51,
   "metadata": {},
   "outputs": [],
   "source": [
    "processed_data.to_csv('processed_data.csv', index=False)"
   ]
  },
  {
   "cell_type": "markdown",
   "metadata": {},
   "source": [
    "### Definición y entrenamiento de modelo"
   ]
  },
  {
   "cell_type": "code",
   "execution_count": 52,
   "metadata": {},
   "outputs": [
    {
     "data": {
      "text/html": [
       "<div>\n",
       "<style scoped>\n",
       "    .dataframe tbody tr th:only-of-type {\n",
       "        vertical-align: middle;\n",
       "    }\n",
       "\n",
       "    .dataframe tbody tr th {\n",
       "        vertical-align: top;\n",
       "    }\n",
       "\n",
       "    .dataframe thead th {\n",
       "        text-align: right;\n",
       "    }\n",
       "</style>\n",
       "<table border=\"1\" class=\"dataframe\">\n",
       "  <thead>\n",
       "    <tr style=\"text-align: right;\">\n",
       "      <th></th>\n",
       "      <th>processed_abstract</th>\n",
       "      <th>entity_1_type</th>\n",
       "      <th>entity_2_type</th>\n",
       "      <th>relationship_label</th>\n",
       "    </tr>\n",
       "  </thead>\n",
       "  <tbody>\n",
       "    <tr>\n",
       "      <th>0</th>\n",
       "      <td>We report on a new allele at the [ENTITY_1]ary...</td>\n",
       "      <td>GeneOrGeneProduct</td>\n",
       "      <td>DiseaseOrPhenotypicFeature</td>\n",
       "      <td>0</td>\n",
       "    </tr>\n",
       "    <tr>\n",
       "      <th>1</th>\n",
       "      <td>We report on a new allele at the [ENTITY_1]ary...</td>\n",
       "      <td>GeneOrGeneProduct</td>\n",
       "      <td>DiseaseOrPhenotypicFeature</td>\n",
       "      <td>0</td>\n",
       "    </tr>\n",
       "    <tr>\n",
       "      <th>2</th>\n",
       "      <td>We report on a new allele at the arylsulfatase...</td>\n",
       "      <td>GeneOrGeneProduct</td>\n",
       "      <td>DiseaseOrPhenotypicFeature</td>\n",
       "      <td>0</td>\n",
       "    </tr>\n",
       "    <tr>\n",
       "      <th>3</th>\n",
       "      <td>We report on a new allele at the arylsulfatase...</td>\n",
       "      <td>GeneOrGeneProduct</td>\n",
       "      <td>DiseaseOrPhenotypicFeature</td>\n",
       "      <td>0</td>\n",
       "    </tr>\n",
       "    <tr>\n",
       "      <th>4</th>\n",
       "      <td>We report on a new allele at the [ENTITY_1]ary...</td>\n",
       "      <td>GeneOrGeneProduct</td>\n",
       "      <td>DiseaseOrPhenotypicFeature</td>\n",
       "      <td>0</td>\n",
       "    </tr>\n",
       "  </tbody>\n",
       "</table>\n",
       "</div>"
      ],
      "text/plain": [
       "                                  processed_abstract      entity_1_type  \\\n",
       "0  We report on a new allele at the [ENTITY_1]ary...  GeneOrGeneProduct   \n",
       "1  We report on a new allele at the [ENTITY_1]ary...  GeneOrGeneProduct   \n",
       "2  We report on a new allele at the arylsulfatase...  GeneOrGeneProduct   \n",
       "3  We report on a new allele at the arylsulfatase...  GeneOrGeneProduct   \n",
       "4  We report on a new allele at the [ENTITY_1]ary...  GeneOrGeneProduct   \n",
       "\n",
       "                entity_2_type  relationship_label  \n",
       "0  DiseaseOrPhenotypicFeature                   0  \n",
       "1  DiseaseOrPhenotypicFeature                   0  \n",
       "2  DiseaseOrPhenotypicFeature                   0  \n",
       "3  DiseaseOrPhenotypicFeature                   0  \n",
       "4  DiseaseOrPhenotypicFeature                   0  "
      ]
     },
     "execution_count": 52,
     "metadata": {},
     "output_type": "execute_result"
    }
   ],
   "source": [
    "processed_data = pd.read_csv('processed_data.csv')\n",
    "processed_data.head() # Reimportamos la información para no redundar con el preprocesamiento"
   ]
  },
  {
   "cell_type": "code",
   "execution_count": 53,
   "metadata": {},
   "outputs": [
    {
     "name": "stderr",
     "output_type": "stream",
     "text": [
      "Some weights of BertForSequenceClassification were not initialized from the model checkpoint at bert-base-uncased and are newly initialized: ['classifier.bias', 'classifier.weight']\n",
      "You should probably TRAIN this model on a down-stream task to be able to use it for predictions and inference.\n"
     ]
    }
   ],
   "source": [
    "tokenizer = AutoTokenizer.from_pretrained(\"bert-base-uncased\")\n",
    "model = AutoModelForSequenceClassification.from_pretrained(\"bert-base-uncased\", num_labels=len(label_encoder.classes_))\n",
    "\n",
    "def tokenize_data(examples):\n",
    "    return tokenizer(examples['processed_abstract'], padding=\"max_length\", truncation=True)\n",
    "\n",
    "# Apply tokenization to the whole dataset\n",
    "# tokenized_data = processed_data.apply(lambda row: tokenize_data(row), axis=1)"
   ]
  },
  {
   "cell_type": "code",
   "execution_count": 54,
   "metadata": {},
   "outputs": [],
   "source": [
    "X = processed_data['processed_abstract']\n",
    "y = processed_data['relationship_label']\n",
    "\n",
    "# Split the data into training and evaluation sets\n",
    "X_train, X_test, y_train, y_test = train_test_split(\n",
    "    X, y, test_size=0.20, random_state=42\n",
    ")"
   ]
  },
  {
   "cell_type": "code",
   "execution_count": 55,
   "metadata": {},
   "outputs": [],
   "source": [
    "# Define max sequence length for BERT input\n",
    "maxlen = 200\n",
    "\n",
    "# Tokenize training data\n",
    "train_encodings = tokenizer(\n",
    "    X_train.tolist(), # Convert to list for batch tokenization\n",
    "    truncation=True,\n",
    "    padding=\"max_length\",\n",
    "    max_length=maxlen\n",
    ")\n",
    "\n",
    "# Tokenize testing data\n",
    "test_encodings = tokenizer(\n",
    "    X_test.tolist(),\n",
    "    truncation=True,\n",
    "    padding=\"max_length\",\n",
    "    max_length=maxlen\n",
    ")"
   ]
  },
  {
   "cell_type": "code",
   "execution_count": 56,
   "metadata": {},
   "outputs": [],
   "source": [
    "class RelationshipDataset(Dataset):\n",
    "    def __init__(self, encodings, labels):\n",
    "        self.encodings = encodings\n",
    "        self.labels = labels\n",
    "\n",
    "    def __getitem__(self, idx):\n",
    "        item = {key: torch.tensor(val[idx]) for key, val in self.encodings.items()}\n",
    "        item['labels'] = torch.tensor(self.labels[idx])\n",
    "        return item\n",
    "\n",
    "    def __len__(self):\n",
    "        return len(self.labels)\n",
    "\n",
    "# Convert to torch Dataset objects\n",
    "train_dataset = RelationshipDataset(train_encodings, y_train.tolist())\n",
    "test_dataset = RelationshipDataset(test_encodings, y_test.tolist())\n"
   ]
  },
  {
   "cell_type": "code",
   "execution_count": 57,
   "metadata": {},
   "outputs": [],
   "source": [
    "def compute_metrics(pred):\n",
    "    labels = pred.label_ids\n",
    "    preds = np.argmax(pred.predictions, axis=1)\n",
    "    precision, recall, f1, _ = precision_recall_fscore_support(labels, preds, average='weighted')\n",
    "    acc = accuracy_score(labels, preds)\n",
    "    return {\n",
    "        'accuracy': acc,\n",
    "        'f1': f1,\n",
    "        'precision': precision,\n",
    "        'recall': recall\n",
    "    }\n"
   ]
  },
  {
   "cell_type": "code",
   "execution_count": 59,
   "metadata": {},
   "outputs": [
    {
     "data": {
      "text/plain": [
       "True"
      ]
     },
     "execution_count": 59,
     "metadata": {},
     "output_type": "execute_result"
    }
   ],
   "source": [
    "torch.cuda.is_available()"
   ]
  },
  {
   "cell_type": "code",
   "execution_count": 58,
   "metadata": {},
   "outputs": [
    {
     "data": {
      "text/plain": [
       "BertForSequenceClassification(\n",
       "  (bert): BertModel(\n",
       "    (embeddings): BertEmbeddings(\n",
       "      (word_embeddings): Embedding(30522, 768, padding_idx=0)\n",
       "      (position_embeddings): Embedding(512, 768)\n",
       "      (token_type_embeddings): Embedding(2, 768)\n",
       "      (LayerNorm): LayerNorm((768,), eps=1e-12, elementwise_affine=True)\n",
       "      (dropout): Dropout(p=0.1, inplace=False)\n",
       "    )\n",
       "    (encoder): BertEncoder(\n",
       "      (layer): ModuleList(\n",
       "        (0-11): 12 x BertLayer(\n",
       "          (attention): BertAttention(\n",
       "            (self): BertSdpaSelfAttention(\n",
       "              (query): Linear(in_features=768, out_features=768, bias=True)\n",
       "              (key): Linear(in_features=768, out_features=768, bias=True)\n",
       "              (value): Linear(in_features=768, out_features=768, bias=True)\n",
       "              (dropout): Dropout(p=0.1, inplace=False)\n",
       "            )\n",
       "            (output): BertSelfOutput(\n",
       "              (dense): Linear(in_features=768, out_features=768, bias=True)\n",
       "              (LayerNorm): LayerNorm((768,), eps=1e-12, elementwise_affine=True)\n",
       "              (dropout): Dropout(p=0.1, inplace=False)\n",
       "            )\n",
       "          )\n",
       "          (intermediate): BertIntermediate(\n",
       "            (dense): Linear(in_features=768, out_features=3072, bias=True)\n",
       "            (intermediate_act_fn): GELUActivation()\n",
       "          )\n",
       "          (output): BertOutput(\n",
       "            (dense): Linear(in_features=3072, out_features=768, bias=True)\n",
       "            (LayerNorm): LayerNorm((768,), eps=1e-12, elementwise_affine=True)\n",
       "            (dropout): Dropout(p=0.1, inplace=False)\n",
       "          )\n",
       "        )\n",
       "      )\n",
       "    )\n",
       "    (pooler): BertPooler(\n",
       "      (dense): Linear(in_features=768, out_features=768, bias=True)\n",
       "      (activation): Tanh()\n",
       "    )\n",
       "  )\n",
       "  (dropout): Dropout(p=0.1, inplace=False)\n",
       "  (classifier): Linear(in_features=768, out_features=8, bias=True)\n",
       ")"
      ]
     },
     "execution_count": 58,
     "metadata": {},
     "output_type": "execute_result"
    }
   ],
   "source": [
    "# Check if CUDA is available and set the device accordingly\n",
    "device = torch.device(\"cuda\" if torch.cuda.is_available() else \"cpu\")\n",
    "\n",
    "# Example of creating a tensor on the GPU\n",
    "tensor = torch.tensor([1.0, 2.0, 3.0], device=device)\n",
    "\n",
    "# Move your model to the GPU\n",
    "model.to(device)"
   ]
  },
  {
   "cell_type": "code",
   "execution_count": 60,
   "metadata": {},
   "outputs": [
    {
     "name": "stderr",
     "output_type": "stream",
     "text": [
      "c:\\Users\\diego\\AppData\\Local\\Programs\\Python\\Python310\\lib\\site-packages\\transformers\\training_args.py:1559: FutureWarning: `evaluation_strategy` is deprecated and will be removed in version 4.46 of 🤗 Transformers. Use `eval_strategy` instead\n",
      "  warnings.warn(\n"
     ]
    }
   ],
   "source": [
    "\n",
    "# Set up training arguments\n",
    "training_args = TrainingArguments(\n",
    "    output_dir='./results',           # Output directory for checkpoints\n",
    "    evaluation_strategy=\"epoch\",      # Evaluate at each epoch end\n",
    "    per_device_train_batch_size=8,    # Batch size for training\n",
    "    per_device_eval_batch_size=8,     # Batch size for evaluation\n",
    "    num_train_epochs=3,               # Total number of training epochs\n",
    "    learning_rate=2e-5,               # Learning rate\n",
    "    logging_dir='./logs',             # Directory for storing logs\n",
    "    save_strategy='epoch',\n",
    "    load_best_model_at_end=True       # Load best model after training\n",
    ")\n",
    "\n",
    "# Initialize Trainer with model, arguments, dataset, and metrics\n",
    "trainer = Trainer(\n",
    "    model=model,\n",
    "    args=training_args,\n",
    "    train_dataset=train_dataset,\n",
    "    eval_dataset=test_dataset,\n",
    "    compute_metrics=compute_metrics\n",
    ")"
   ]
  },
  {
   "cell_type": "code",
   "execution_count": 61,
   "metadata": {},
   "outputs": [
    {
     "data": {
      "application/vnd.jupyter.widget-view+json": {
       "model_id": "6b1541c940344843beea9804ffe9415e",
       "version_major": 2,
       "version_minor": 0
      },
      "text/plain": [
       "  0%|          | 0/3360 [00:00<?, ?it/s]"
      ]
     },
     "metadata": {},
     "output_type": "display_data"
    },
    {
     "name": "stdout",
     "output_type": "stream",
     "text": [
      "{'loss': 1.0207, 'grad_norm': 5.882041931152344, 'learning_rate': 1.7023809523809524e-05, 'epoch': 0.45}\n",
      "{'loss': 0.8371, 'grad_norm': 13.211043357849121, 'learning_rate': 1.4047619047619048e-05, 'epoch': 0.89}\n"
     ]
    },
    {
     "data": {
      "application/vnd.jupyter.widget-view+json": {
       "model_id": "16b16711112640ee91d8a5583e078ba0",
       "version_major": 2,
       "version_minor": 0
      },
      "text/plain": [
       "  0%|          | 0/280 [00:00<?, ?it/s]"
      ]
     },
     "metadata": {},
     "output_type": "display_data"
    },
    {
     "name": "stderr",
     "output_type": "stream",
     "text": [
      "c:\\Users\\diego\\AppData\\Local\\Programs\\Python\\Python310\\lib\\site-packages\\sklearn\\metrics\\_classification.py:1497: UndefinedMetricWarning: Precision is ill-defined and being set to 0.0 in labels with no predicted samples. Use `zero_division` parameter to control this behavior.\n",
      "  _warn_prf(average, modifier, f\"{metric.capitalize()} is\", len(result))\n"
     ]
    },
    {
     "name": "stdout",
     "output_type": "stream",
     "text": [
      "{'eval_loss': 0.7201603651046753, 'eval_accuracy': 0.7373827601607861, 'eval_f1': 0.7226378399643775, 'eval_precision': 0.7236088411236242, 'eval_recall': 0.7373827601607861, 'eval_runtime': 95.4102, 'eval_samples_per_second': 23.467, 'eval_steps_per_second': 2.935, 'epoch': 1.0}\n",
      "{'loss': 0.7041, 'grad_norm': 12.569625854492188, 'learning_rate': 1.1071428571428572e-05, 'epoch': 1.34}\n",
      "{'loss': 0.6607, 'grad_norm': 11.485201835632324, 'learning_rate': 8.095238095238097e-06, 'epoch': 1.79}\n"
     ]
    },
    {
     "data": {
      "application/vnd.jupyter.widget-view+json": {
       "model_id": "55f57846962b4b5caa0365326b043d68",
       "version_major": 2,
       "version_minor": 0
      },
      "text/plain": [
       "  0%|          | 0/280 [00:00<?, ?it/s]"
      ]
     },
     "metadata": {},
     "output_type": "display_data"
    },
    {
     "name": "stderr",
     "output_type": "stream",
     "text": [
      "c:\\Users\\diego\\AppData\\Local\\Programs\\Python\\Python310\\lib\\site-packages\\sklearn\\metrics\\_classification.py:1497: UndefinedMetricWarning: Precision is ill-defined and being set to 0.0 in labels with no predicted samples. Use `zero_division` parameter to control this behavior.\n",
      "  _warn_prf(average, modifier, f\"{metric.capitalize()} is\", len(result))\n"
     ]
    },
    {
     "name": "stdout",
     "output_type": "stream",
     "text": [
      "{'eval_loss': 0.6477283835411072, 'eval_accuracy': 0.7650736936132202, 'eval_f1': 0.7580707675301982, 'eval_precision': 0.7606313113227039, 'eval_recall': 0.7650736936132202, 'eval_runtime': 95.5999, 'eval_samples_per_second': 23.421, 'eval_steps_per_second': 2.929, 'epoch': 2.0}\n",
      "{'loss': 0.5684, 'grad_norm': 11.84036922454834, 'learning_rate': 5.119047619047619e-06, 'epoch': 2.23}\n",
      "{'loss': 0.4879, 'grad_norm': 9.749794960021973, 'learning_rate': 2.1428571428571427e-06, 'epoch': 2.68}\n"
     ]
    },
    {
     "data": {
      "application/vnd.jupyter.widget-view+json": {
       "model_id": "11f2e4b816d54aa9892457e1177e4605",
       "version_major": 2,
       "version_minor": 0
      },
      "text/plain": [
       "  0%|          | 0/280 [00:00<?, ?it/s]"
      ]
     },
     "metadata": {},
     "output_type": "display_data"
    },
    {
     "name": "stderr",
     "output_type": "stream",
     "text": [
      "c:\\Users\\diego\\AppData\\Local\\Programs\\Python\\Python310\\lib\\site-packages\\sklearn\\metrics\\_classification.py:1497: UndefinedMetricWarning: Precision is ill-defined and being set to 0.0 in labels with no predicted samples. Use `zero_division` parameter to control this behavior.\n",
      "  _warn_prf(average, modifier, f\"{metric.capitalize()} is\", len(result))\n"
     ]
    },
    {
     "name": "stdout",
     "output_type": "stream",
     "text": [
      "{'eval_loss': 0.6246736645698547, 'eval_accuracy': 0.7869584635998214, 'eval_f1': 0.7768094080516753, 'eval_precision': 0.7688506085439327, 'eval_recall': 0.7869584635998214, 'eval_runtime': 92.0256, 'eval_samples_per_second': 24.33, 'eval_steps_per_second': 3.043, 'epoch': 3.0}\n",
      "{'train_runtime': 3579.1134, 'train_samples_per_second': 7.505, 'train_steps_per_second': 0.939, 'train_loss': 0.6915263539268857, 'epoch': 3.0}\n"
     ]
    },
    {
     "data": {
      "text/plain": [
       "TrainOutput(global_step=3360, training_loss=0.6915263539268857, metrics={'train_runtime': 3579.1134, 'train_samples_per_second': 7.505, 'train_steps_per_second': 0.939, 'total_flos': 2760964811193600.0, 'train_loss': 0.6915263539268857, 'epoch': 3.0})"
      ]
     },
     "execution_count": 61,
     "metadata": {},
     "output_type": "execute_result"
    }
   ],
   "source": [
    "# Train the model\n",
    "trainer.train()"
   ]
  },
  {
   "cell_type": "code",
   "execution_count": 62,
   "metadata": {},
   "outputs": [
    {
     "data": {
      "application/vnd.jupyter.widget-view+json": {
       "model_id": "2b6c9a17b2434f50a789e33660e1f3e4",
       "version_major": 2,
       "version_minor": 0
      },
      "text/plain": [
       "  0%|          | 0/280 [00:00<?, ?it/s]"
      ]
     },
     "metadata": {},
     "output_type": "display_data"
    },
    {
     "name": "stdout",
     "output_type": "stream",
     "text": [
      "Evaluation Results: {'eval_loss': 0.6246736645698547, 'eval_accuracy': 0.7869584635998214, 'eval_f1': 0.7768094080516753, 'eval_precision': 0.7688506085439327, 'eval_recall': 0.7869584635998214, 'eval_runtime': 78.3762, 'eval_samples_per_second': 28.567, 'eval_steps_per_second': 3.573, 'epoch': 3.0}\n"
     ]
    },
    {
     "name": "stderr",
     "output_type": "stream",
     "text": [
      "c:\\Users\\diego\\AppData\\Local\\Programs\\Python\\Python310\\lib\\site-packages\\sklearn\\metrics\\_classification.py:1497: UndefinedMetricWarning: Precision is ill-defined and being set to 0.0 in labels with no predicted samples. Use `zero_division` parameter to control this behavior.\n",
      "  _warn_prf(average, modifier, f\"{metric.capitalize()} is\", len(result))\n"
     ]
    }
   ],
   "source": [
    "# Evaluate the model\n",
    "eval_results = trainer.evaluate()\n",
    "print(\"Evaluation Results:\", eval_results)"
   ]
  },
  {
   "cell_type": "markdown",
   "metadata": {},
   "source": [
    "### Visualización de resultados"
   ]
  },
  {
   "cell_type": "code",
   "execution_count": 68,
   "metadata": {},
   "outputs": [
    {
     "data": {
      "image/png": "[encoded data removed]",
      "text/plain": [
       "<Figure size 1000x600 with 1 Axes>"
      ]
     },
     "metadata": {},
     "output_type": "display_data"
    }
   ],
   "source": [
    "# Extract metrics\n",
    "metrics = ['accuracy','f1','precision','recall']\n",
    "values = [eval_results[f\"eval_{metric}\"] for metric in metrics]\n",
    "\n",
    "# Create a bar plot\n",
    "plt.figure(figsize=(10, 6))\n",
    "bars = plt.bar(metrics, values, color='blue')\n",
    "plt.title('Model Evaluation Results')\n",
    "plt.xlabel('Metrics')\n",
    "plt.ylabel('Values')\n",
    "plt.xticks(rotation=45)\n",
    "plt.grid(axis='y')\n",
    "\n",
    "# Add value labels above each bar\n",
    "for bar, value in zip(bars, values):\n",
    "    plt.text(\n",
    "        bar.get_x() + bar.get_width() / 2,  # X-coordinate for the label\n",
    "        bar.get_height() + 0.02,            # Y-coordinate, a bit above the bar\n",
    "        f\"{value:.2f}\",                     # Value label, rounded to 2 decimals\n",
    "        ha='center', va='bottom'            # Center alignment\n",
    "    )\n",
    "\n",
    "# Show plot\n",
    "plt.show()"
   ]
  },
  {
   "cell_type": "code",
   "execution_count": 65,
   "metadata": {},
   "outputs": [],
   "source": [
    "model.save_pretrained('./relationship_model')\n",
    "tokenizer.save_pretrained('./relationship_model')\n",
    "pd.to_pickle(label_encoder, './relationship_model/label_encoder.pkl')"
   ]
  }
 ],
 "metadata": {
  "kernelspec": {
   "display_name": "Python 3",
   "language": "python",
   "name": "python3"
  },
  "language_info": {
   "codemirror_mode": {
    "name": "ipython",
    "version": 3
   },
   "file_extension": ".py",
   "mimetype": "text/x-python",
   "name": "python",
   "nbconvert_exporter": "python",
   "pygments_lexer": "ipython3",
   "version": "3.10.11"
  }
 },
 "nbformat": 4,
 "nbformat_minor": 2
}
